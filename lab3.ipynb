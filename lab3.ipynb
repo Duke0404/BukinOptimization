{
 "cells": [
  {
   "cell_type": "code",
   "execution_count": 106,
   "metadata": {},
   "outputs": [],
   "source": [
    "import numpy\n",
    "import matplotlib.pyplot as plt\n",
    "import time"
   ]
  },
  {
   "attachments": {},
   "cell_type": "markdown",
   "metadata": {},
   "source": [
    "#### Bukin function"
   ]
  },
  {
   "cell_type": "code",
   "execution_count": 107,
   "metadata": {},
   "outputs": [],
   "source": [
    "def bukin(x: float, y: float):\n",
    "    return 100 * numpy.sqrt(numpy.abs(y - 0.01 * x ** 2)) + 0.01 * numpy.abs(x + 10)"
   ]
  },
  {
   "attachments": {},
   "cell_type": "markdown",
   "metadata": {},
   "source": [
    "#### Function to create the starting population"
   ]
  },
  {
   "cell_type": "code",
   "execution_count": 108,
   "metadata": {},
   "outputs": [],
   "source": [
    "def initialize_population(bounds, size):\n",
    "    population = []\n",
    "    for _ in range(size):\n",
    "        individual = []\n",
    "        for j in range(len(bounds)):\n",
    "            individual.append(numpy.random.uniform(bounds[j][0], bounds[j][1]))\n",
    "        population.append(individual)\n",
    "    return population"
   ]
  },
  {
   "attachments": {},
   "cell_type": "markdown",
   "metadata": {},
   "source": [
    "#### Mutation operator"
   ]
  },
  {
   "cell_type": "code",
   "execution_count": 109,
   "metadata": {},
   "outputs": [],
   "source": [
    "def mutation(individual, strength, probability):\n",
    "    mutated_individual = []\n",
    "    for i in range(len(individual)):\n",
    "        if numpy.random.random() < probability:\n",
    "            mutated_individual.append(individual[i] + strength * numpy.random.normal())\n",
    "        else:\n",
    "            mutated_individual.append(individual[i])\n",
    "    return mutated_individual"
   ]
  },
  {
   "attachments": {},
   "cell_type": "markdown",
   "metadata": {},
   "source": [
    "#### Selection operator"
   ]
  },
  {
   "cell_type": "code",
   "execution_count": 110,
   "metadata": {},
   "outputs": [],
   "source": [
    "# Elitist selection\n",
    "def selection(population, size):\n",
    "    sorted_population = sorted(population, key=lambda x: bukin(x[0], x[1]))\n",
    "    return sorted_population[:size]"
   ]
  },
  {
   "attachments": {},
   "cell_type": "markdown",
   "metadata": {},
   "source": [
    "#### Crossover operator"
   ]
  },
  {
   "cell_type": "code",
   "execution_count": 111,
   "metadata": {},
   "outputs": [],
   "source": [
    "# Arithmetic crossover\n",
    "def crossover(parents):\n",
    "    offspring = []\n",
    "    for i in range(len(parents)):\n",
    "        for j in range(i+1, len(parents)):\n",
    "            child = []\n",
    "            for k in range(len(parents[i])):\n",
    "                if numpy.random.random() < 0.5:\n",
    "                    child.append(parents[i][k])\n",
    "                else:\n",
    "                    child.append(parents[j][k])\n",
    "            offspring.append(child)\n",
    "    return offspring"
   ]
  },
  {
   "attachments": {},
   "cell_type": "markdown",
   "metadata": {},
   "source": [
    "##### The main genetic algorithm"
   ]
  },
  {
   "cell_type": "code",
   "execution_count": 112,
   "metadata": {},
   "outputs": [],
   "source": [
    "def optimization(bounds, population_size, selection_size, mutation_strength, mutation_probability, max_iterations):\n",
    "    population = initialize_population(bounds, population_size)\n",
    "    start_time = time.time()\n",
    "    fitness_history = []\n",
    "    \n",
    "    for _ in range(max_iterations):\n",
    "        parents = selection(population, selection_size)\n",
    "        offspring = crossover(parents)\n",
    "        mutated_offspring = [mutation(individual, mutation_strength, mutation_probability) for individual in offspring]\n",
    "        population = parents + mutated_offspring\n",
    "        fitness = [bukin(individual[0], individual[1]) for individual in population]\n",
    "        fitness_history.append(min(fitness))\n",
    "        \n",
    "    optimization_time = time.time() - start_time\n",
    "    \n",
    "    plt.plot(fitness_history)\n",
    "    plt.title(\"Evolution of Fitness\")\n",
    "    plt.xlabel(\"Iteration\")\n",
    "    plt.ylabel(\"Fitness\")\n",
    "    plt.show()\n",
    "\n",
    "    best_values = min(population, key=lambda x: bukin(x[0], x[1]))\n",
    "    \n",
    "    return best_values[0], best_values[1], optimization_time"
   ]
  },
  {
   "cell_type": "code",
   "execution_count": 113,
   "metadata": {},
   "outputs": [
    {
     "data": {
      "image/png": "[encoded data removed]",
      "text/plain": [
       "<Figure size 432x288 with 1 Axes>"
      ]
     },
     "metadata": {
      "needs_background": "light"
     },
     "output_type": "display_data"
    },
    {
     "name": "stdout",
     "output_type": "stream",
     "text": [
      "Optimization time: 0.73s\n",
      "Optimal solution: x = 3.31, y = 0.109\n",
      "Bukin function value = 0.23\n"
     ]
    }
   ],
   "source": [
    "x_lower_input = int(input(\"Lower bound for x: \"))\n",
    "\n",
    "x_upper_input = -numpy.inf\n",
    "while x_upper_input <= x_lower_input:\t\n",
    "\tx_upper_input = int(input(\"Upper bound for x: \"))\n",
    "\n",
    "\n",
    "y_lower_input = int(input(\"Lower bound for y: \"))\n",
    "\n",
    "y_upper_input = -numpy.inf\n",
    "while y_upper_input <= y_lower_input:\n",
    "\ty_upper_input = int(input(\"Upper bound for y: \"))\n",
    "\n",
    "bounds = [(x_lower_input, x_upper_input), (y_lower_input, y_upper_input)]\n",
    "\n",
    "population_size = 0\n",
    "while population_size <= 0:\n",
    "\tpopulation_size = int(input(\"Population size: \"))\n",
    "\n",
    "selection_size = 0\n",
    "while selection_size <= 0 or selection_size > population_size:\n",
    "\tselection_size = int(input(\"Selection size: \"))\n",
    "\n",
    "mutation_strength = float(input(\"Mutation strength: \"))\n",
    "\n",
    "mutation_probability = -1\n",
    "while mutation_probability < 0 or mutation_probability > 1:\n",
    "\tmutation_probability = float(input(\"Mutation probability: \"))\n",
    "\n",
    "max_iterations = 0\n",
    "while max_iterations <= 0:\n",
    "\tmax_iterations = int(input(\"Max iterations: \"))\n",
    "\n",
    "solution = optimization(bounds, population_size, selection_size, mutation_strength, mutation_probability, max_iterations)\n",
    "\n",
    "print(f\"Optimization time: {solution[2]:.2f}s\")\n",
    "print(f\"Optimal solution: x = {solution[0]:.2f}, y = {solution[1]:.3f}\")\n",
    "print(f\"Bukin function value = {bukin(solution[0], solution[1]):.2f}\")\n",
    "\n",
    "# Ideally x = -10, y = 1, Bukin function value = 0"
   ]
  }
 ],
 "metadata": {
  "kernelspec": {
   "display_name": "Python 3",
   "language": "python",
   "name": "python3"
  },
  "language_info": {
   "codemirror_mode": {
    "name": "ipython",
    "version": 3
   },
   "file_extension": ".py",
   "mimetype": "text/x-python",
   "name": "python",
   "nbconvert_exporter": "python",
   "pygments_lexer": "ipython3",
   "version": "3.9.13"
  },
  "orig_nbformat": 4
 },
 "nbformat": 4,
 "nbformat_minor": 2
}
