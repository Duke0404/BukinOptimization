{
 "cells": [
  {
   "cell_type": "code",
   "execution_count": null,
   "metadata": {},
   "outputs": [],
   "source": [
    "import numpy\n",
    "import matplotlib.pyplot as plt\n",
    "import time"
   ]
  },
  {
   "attachments": {},
   "cell_type": "markdown",
   "metadata": {},
   "source": [
    "#### Bukin function"
   ]
  },
  {
   "cell_type": "code",
   "execution_count": null,
   "metadata": {},
   "outputs": [],
   "source": [
    "def bukin(x: float, y: float):\n",
    "    return 100 * numpy.sqrt(numpy.abs(y - 0.01 * x ** 2)) + 0.01 * numpy.abs(x + 10)"
   ]
  },
  {
   "attachments": {},
   "cell_type": "markdown",
   "metadata": {},
   "source": [
    "#### Function to create the starting population"
   ]
  },
  {
   "cell_type": "code",
   "execution_count": null,
   "metadata": {},
   "outputs": [],
   "source": [
    "def initialize_population(bounds, size):\n",
    "    population = []\n",
    "    for _ in range(size):\n",
    "        individual = []\n",
    "        for j in range(len(bounds)):\n",
    "            individual.append(numpy.random.uniform(bounds[j][0], bounds[j][1]))\n",
    "        population.append(individual)\n",
    "    return population"
   ]
  },
  {
   "attachments": {},
   "cell_type": "markdown",
   "metadata": {},
   "source": [
    "#### Mutation operator"
   ]
  },
  {
   "cell_type": "code",
   "execution_count": null,
   "metadata": {},
   "outputs": [],
   "source": [
    "def mutation(individual, strength, probability):\n",
    "    mutated_individual = []\n",
    "    for i in range(len(individual)):\n",
    "        if numpy.random.random() < probability:\n",
    "            mutated_individual.append(individual[i] + strength * numpy.random.normal())\n",
    "        else:\n",
    "            mutated_individual.append(individual[i])\n",
    "    return mutated_individual"
   ]
  },
  {
   "attachments": {},
   "cell_type": "markdown",
   "metadata": {},
   "source": [
    "#### Selection operator"
   ]
  },
  {
   "cell_type": "code",
   "execution_count": null,
   "metadata": {},
   "outputs": [],
   "source": [
    "# Elitist selection\n",
    "def selection(population, size):\n",
    "    sorted_population = sorted(population, key=lambda x: bukin(x[0], x[1]))\n",
    "    return sorted_population[:size]"
   ]
  },
  {
   "attachments": {},
   "cell_type": "markdown",
   "metadata": {},
   "source": [
    "#### Crossover operator"
   ]
  },
  {
   "cell_type": "code",
   "execution_count": null,
   "metadata": {},
   "outputs": [],
   "source": [
    "# Arithmetic crossover\n",
    "def crossover(parents):\n",
    "    offspring = []\n",
    "    for i in range(len(parents)):\n",
    "        for j in range(i+1, len(parents)):\n",
    "            child = []\n",
    "            for k in range(len(parents[i])):\n",
    "                if numpy.random.random() < 0.5:\n",
    "                    child.append(parents[i][k])\n",
    "                else:\n",
    "                    child.append(parents[j][k])\n",
    "            offspring.append(child)\n",
    "    return offspring"
   ]
  },
  {
   "attachments": {},
   "cell_type": "markdown",
   "metadata": {},
   "source": [
    "##### The main genetic algorithm"
   ]
  },
  {
   "cell_type": "code",
   "execution_count": null,
   "metadata": {},
   "outputs": [],
   "source": [
    "def optimization(bounds, population_size, selection_size, mutation_strength, mutation_probability, max_iterations):\n",
    "    population = initialize_population(bounds, population_size)\n",
    "    start_time = time.time()\n",
    "    fitness_history = []\n",
    "    \n",
    "    for _ in range(max_iterations):\n",
    "        parents = selection(population, selection_size)\n",
    "        offspring = crossover(parents)\n",
    "        mutated_offspring = [mutation(individual, mutation_strength, mutation_probability) for individual in offspring]\n",
    "        population = parents + mutated_offspring\n",
    "        fitness = [bukin(individual[0], individual[1]) for individual in population]\n",
    "        fitness_history.append(min(fitness))\n",
    "        \n",
    "    optimization_time = time.time() - start_time\n",
    "    \n",
    "    plt.plot(fitness_history)\n",
    "    plt.title(\"Evolution of Fitness\")\n",
    "    plt.xlabel(\"Iteration\")\n",
    "    plt.ylabel(\"Fitness\")\n",
    "    plt.show()\n",
    "\n",
    "    best_values = min(population, key=lambda x: bukin(x[0], x[1]))\n",
    "    \n",
    "    return best_values[0], best_values[1], optimization_time"
   ]
  },
  {
   "cell_type": "code",
   "execution_count": null,
   "metadata": {},
   "outputs": [],
   "source": [
    "x_lower_input = None\n",
    "while x_lower_input is None:\n",
    "    try:\n",
    "        x_lower_input = int(input(\"Lower bound for x: \"))\n",
    "    except ValueError:\n",
    "        print(\"Invalid input. Please enter an integer.\")\n",
    "\n",
    "x_upper_input = None\n",
    "while x_upper_input is None or x_upper_input <= x_lower_input:\n",
    "    try:\n",
    "        x_upper_input = int(input(\"Upper bound for x: \"))\n",
    "        if x_upper_input <= x_lower_input:\n",
    "            print(\"Upper bound must be greater than lower bound.\")\n",
    "    except ValueError:\n",
    "        print(\"Invalid input. Please enter an integer.\")\n",
    "\n",
    "y_lower_input = None\n",
    "while y_lower_input is None:\n",
    "    try:\n",
    "        y_lower_input = int(input(\"Lower bound for y: \"))\n",
    "    except ValueError:\n",
    "        print(\"Invalid input. Please enter an integer.\")\n",
    "\n",
    "y_upper_input = None\n",
    "while y_upper_input is None or y_upper_input <= y_lower_input:\n",
    "    try:\n",
    "        y_upper_input = int(input(\"Upper bound for y: \"))\n",
    "        if y_upper_input <= y_lower_input:\n",
    "            print(\"Upper bound must be greater than lower bound.\")\n",
    "    except ValueError:\n",
    "        print(\"Invalid input. Please enter an integer.\")\n",
    "\n",
    "bounds = [(x_lower_input, x_upper_input), (y_lower_input, y_upper_input)]\n",
    "\n",
    "population_size = None\n",
    "while population_size is None or population_size <= 0:\n",
    "    try:\n",
    "        population_size = int(input(\"Population size: \"))\n",
    "        if population_size <= 0:\n",
    "            print(\"Population size must be greater than 0.\")\n",
    "    except ValueError:\n",
    "        print(\"Invalid input. Please enter an integer.\")\n",
    "\n",
    "selection_size = None\n",
    "while selection_size is None or selection_size <= 0 or selection_size > population_size:\n",
    "    try:\n",
    "        selection_size = int(input(\"Selection size: \"))\n",
    "        if selection_size <= 0:\n",
    "            print(\"Selection size must be greater than 0.\")\n",
    "        elif selection_size > population_size:\n",
    "            print(\"Selection size must be less than or equal to population size.\")\n",
    "    except ValueError:\n",
    "        print(\"Invalid input. Please enter an integer.\")\n",
    "\n",
    "mutation_strength = float(input(\"Mutation strength: \"))\n",
    "\n",
    "mutation_probability = -1\n",
    "while mutation_probability < 0 or mutation_probability > 1:\n",
    "\tmutation_probability = float(input(\"Mutation probability: \"))\n",
    "\n",
    "max_iterations = 0\n",
    "while max_iterations <= 0:\n",
    "\tmax_iterations = int(input(\"Max iterations: \"))\n",
    "\n",
    "solution = optimization(bounds, population_size, selection_size, mutation_strength, mutation_probability, max_iterations)\n",
    "\n",
    "print(f\"Optimization time: {solution[2]:.2f}s\")\n",
    "print(f\"Optimal solution: x = {solution[0]:.2f}, y = {solution[1]:.3f}\")\n",
    "print(f\"Bukin function value = {bukin(solution[0], solution[1]):.2f}\")\n",
    "\n",
    "# Ideally x = -10, y = 1, Bukin function value = 0"
   ]
  }
 ],
 "metadata": {
  "kernelspec": {
   "display_name": "Python 3.10.5 64-bit",
   "language": "python",
   "name": "python3"
  },
  "language_info": {
   "codemirror_mode": {
    "name": "ipython",
    "version": 3
   },
   "file_extension": ".py",
   "mimetype": "text/x-python",
   "name": "python",
   "nbconvert_exporter": "python",
   "pygments_lexer": "ipython3",
   "version": "3.10.5"
  },
  "orig_nbformat": 4,
  "vscode": {
   "interpreter": {
    "hash": "afca0ec085f7104625fa42b7fce53316f9d532982699b712bd08a3220e4b2276"
   }
  }
 },
 "nbformat": 4,
 "nbformat_minor": 2
}
